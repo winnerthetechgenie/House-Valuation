{
 "cells": [
  {
   "cell_type": "code",
   "execution_count": 545,
   "metadata": {},
   "outputs": [],
   "source": [
    "import pandas as pd\n",
    "import matplotlib.pyplot as plt\n",
    "import seaborn as sns\n",
    "from sklearn.model_selection import train_test_split\n",
    "from sklearn.ensemble import RandomForestClassifier\n",
    "from sklearn.metrics import accuracy_score, r2_score\n",
    "from sklearn.linear_model import LinearRegression\n",
    "from sklearn.preprocessing import LabelEncoder, StandardScaler"
   ]
  },
  {
   "cell_type": "code",
   "execution_count": 546,
   "metadata": {},
   "outputs": [
    {
     "data": {
      "text/html": [
       "<div>\n",
       "<style scoped>\n",
       "    .dataframe tbody tr th:only-of-type {\n",
       "        vertical-align: middle;\n",
       "    }\n",
       "\n",
       "    .dataframe tbody tr th {\n",
       "        vertical-align: top;\n",
       "    }\n",
       "\n",
       "    .dataframe thead th {\n",
       "        text-align: right;\n",
       "    }\n",
       "</style>\n",
       "<table border=\"1\" class=\"dataframe\">\n",
       "  <thead>\n",
       "    <tr style=\"text-align: right;\">\n",
       "      <th></th>\n",
       "      <th>sn</th>\n",
       "      <th>property_type</th>\n",
       "      <th>state</th>\n",
       "      <th>lat</th>\n",
       "      <th>lon</th>\n",
       "      <th>area_m2</th>\n",
       "      <th>price_usd</th>\n",
       "    </tr>\n",
       "  </thead>\n",
       "  <tbody>\n",
       "    <tr>\n",
       "      <th>0</th>\n",
       "      <td>1</td>\n",
       "      <td>house</td>\n",
       "      <td>Estado de México</td>\n",
       "      <td>19.560181</td>\n",
       "      <td>-99.233528</td>\n",
       "      <td>150.0</td>\n",
       "      <td>67 965.56</td>\n",
       "    </tr>\n",
       "    <tr>\n",
       "      <th>1</th>\n",
       "      <td>2</td>\n",
       "      <td>house</td>\n",
       "      <td>Nuevo León</td>\n",
       "      <td>25.688436</td>\n",
       "      <td>-100.198807</td>\n",
       "      <td>186.0</td>\n",
       "      <td>63 223.78</td>\n",
       "    </tr>\n",
       "    <tr>\n",
       "      <th>2</th>\n",
       "      <td>3</td>\n",
       "      <td>apartment</td>\n",
       "      <td>Guerrero</td>\n",
       "      <td>16.767704</td>\n",
       "      <td>-99.764383</td>\n",
       "      <td>82.0</td>\n",
       "      <td>84 298.37</td>\n",
       "    </tr>\n",
       "    <tr>\n",
       "      <th>3</th>\n",
       "      <td>4</td>\n",
       "      <td>apartment</td>\n",
       "      <td>Guerrero</td>\n",
       "      <td>16.829782</td>\n",
       "      <td>-99.911012</td>\n",
       "      <td>150.0</td>\n",
       "      <td>94 308.80</td>\n",
       "    </tr>\n",
       "    <tr>\n",
       "      <th>4</th>\n",
       "      <td>5</td>\n",
       "      <td>house</td>\n",
       "      <td>Veracruz de Ignacio de la Llave</td>\n",
       "      <td>NaN</td>\n",
       "      <td>NaN</td>\n",
       "      <td>175.0</td>\n",
       "      <td>94 835.67</td>\n",
       "    </tr>\n",
       "    <tr>\n",
       "      <th>...</th>\n",
       "      <td>...</td>\n",
       "      <td>...</td>\n",
       "      <td>...</td>\n",
       "      <td>...</td>\n",
       "      <td>...</td>\n",
       "      <td>...</td>\n",
       "      <td>...</td>\n",
       "    </tr>\n",
       "    <tr>\n",
       "      <th>695</th>\n",
       "      <td>696</td>\n",
       "      <td>house</td>\n",
       "      <td>Morelos</td>\n",
       "      <td>NaN</td>\n",
       "      <td>NaN</td>\n",
       "      <td>310.0</td>\n",
       "      <td>237 089.17</td>\n",
       "    </tr>\n",
       "    <tr>\n",
       "      <th>696</th>\n",
       "      <td>697</td>\n",
       "      <td>house</td>\n",
       "      <td>Yucatán</td>\n",
       "      <td>21.050653</td>\n",
       "      <td>-89.558841</td>\n",
       "      <td>334.0</td>\n",
       "      <td>137 017.34</td>\n",
       "    </tr>\n",
       "    <tr>\n",
       "      <th>697</th>\n",
       "      <td>698</td>\n",
       "      <td>house</td>\n",
       "      <td>Yucatán</td>\n",
       "      <td>21.343796</td>\n",
       "      <td>-89.262060</td>\n",
       "      <td>130.0</td>\n",
       "      <td>110 404.35</td>\n",
       "    </tr>\n",
       "    <tr>\n",
       "      <th>698</th>\n",
       "      <td>699</td>\n",
       "      <td>apartment</td>\n",
       "      <td>Nuevo León</td>\n",
       "      <td>NaN</td>\n",
       "      <td>NaN</td>\n",
       "      <td>155.0</td>\n",
       "      <td>184 446.42</td>\n",
       "    </tr>\n",
       "    <tr>\n",
       "      <th>699</th>\n",
       "      <td>700</td>\n",
       "      <td>house</td>\n",
       "      <td>Querétaro</td>\n",
       "      <td>20.587378</td>\n",
       "      <td>-100.418361</td>\n",
       "      <td>106.0</td>\n",
       "      <td>56 637.97</td>\n",
       "    </tr>\n",
       "  </tbody>\n",
       "</table>\n",
       "<p>700 rows × 7 columns</p>\n",
       "</div>"
      ],
      "text/plain": [
       "      sn property_type                            state        lat  \\\n",
       "0      1         house                 Estado de México  19.560181   \n",
       "1      2         house                       Nuevo León  25.688436   \n",
       "2      3     apartment                         Guerrero  16.767704   \n",
       "3      4     apartment                         Guerrero  16.829782   \n",
       "4      5         house  Veracruz de Ignacio de la Llave        NaN   \n",
       "..   ...           ...                              ...        ...   \n",
       "695  696         house                          Morelos        NaN   \n",
       "696  697         house                          Yucatán  21.050653   \n",
       "697  698         house                          Yucatán  21.343796   \n",
       "698  699     apartment                       Nuevo León        NaN   \n",
       "699  700         house                        Querétaro  20.587378   \n",
       "\n",
       "            lon  area_m2   price_usd  \n",
       "0    -99.233528    150.0   67 965.56  \n",
       "1   -100.198807    186.0   63 223.78  \n",
       "2    -99.764383     82.0   84 298.37  \n",
       "3    -99.911012    150.0   94 308.80  \n",
       "4           NaN    175.0   94 835.67  \n",
       "..          ...      ...         ...  \n",
       "695         NaN    310.0  237 089.17  \n",
       "696  -89.558841    334.0  137 017.34  \n",
       "697  -89.262060    130.0  110 404.35  \n",
       "698         NaN    155.0  184 446.42  \n",
       "699 -100.418361    106.0   56 637.97  \n",
       "\n",
       "[700 rows x 7 columns]"
      ]
     },
     "execution_count": 546,
     "metadata": {},
     "output_type": "execute_result"
    }
   ],
   "source": [
    "house = pd.read_csv(r\"C:\\Users\\HP\\Desktop\\CSV files\\df1.csv\")\n",
    "house"
   ]
  },
  {
   "cell_type": "code",
   "execution_count": 547,
   "metadata": {},
   "outputs": [
    {
     "name": "stdout",
     "output_type": "stream",
     "text": [
      "<class 'pandas.core.frame.DataFrame'>\n",
      "Int64Index: 583 entries, 0 to 699\n",
      "Data columns (total 7 columns):\n",
      " #   Column         Non-Null Count  Dtype  \n",
      "---  ------         --------------  -----  \n",
      " 0   sn             583 non-null    int64  \n",
      " 1   property_type  583 non-null    object \n",
      " 2   state          583 non-null    object \n",
      " 3   lat            583 non-null    float64\n",
      " 4   lon            583 non-null    float64\n",
      " 5   area_m2        583 non-null    float64\n",
      " 6   price_usd      583 non-null    object \n",
      "dtypes: float64(3), int64(1), object(3)\n",
      "memory usage: 36.4+ KB\n"
     ]
    }
   ],
   "source": [
    "house = house.dropna()\n",
    "house.isnull().sum()\n",
    "house.info()"
   ]
  },
  {
   "cell_type": "code",
   "execution_count": 548,
   "metadata": {},
   "outputs": [
    {
     "name": "stderr",
     "output_type": "stream",
     "text": [
      "C:\\Users\\HP\\AppData\\Local\\Temp\\ipykernel_3840\\2191228527.py:1: SettingWithCopyWarning: \n",
      "A value is trying to be set on a copy of a slice from a DataFrame.\n",
      "Try using .loc[row_indexer,col_indexer] = value instead\n",
      "\n",
      "See the caveats in the documentation: https://pandas.pydata.org/pandas-docs/stable/user_guide/indexing.html#returning-a-view-versus-a-copy\n",
      "  house['price_usd'] = house['price_usd'].replace(\" \", \"\", regex=True)\n"
     ]
    }
   ],
   "source": [
    "house['price_usd'] = house['price_usd'].replace(\" \", \"\", regex=True)"
   ]
  },
  {
   "cell_type": "code",
   "execution_count": 561,
   "metadata": {},
   "outputs": [
    {
     "name": "stdout",
     "output_type": "stream",
     "text": [
      "<class 'pandas.core.frame.DataFrame'>\n",
      "Int64Index: 583 entries, 0 to 699\n",
      "Data columns (total 7 columns):\n",
      " #   Column         Non-Null Count  Dtype  \n",
      "---  ------         --------------  -----  \n",
      " 0   sn             583 non-null    int64  \n",
      " 1   property_type  583 non-null    object \n",
      " 2   state          583 non-null    object \n",
      " 3   lat            583 non-null    float64\n",
      " 4   lon            583 non-null    float64\n",
      " 5   area_m2        583 non-null    float64\n",
      " 6   price_usd      583 non-null    float64\n",
      "dtypes: float64(4), int64(1), object(2)\n",
      "memory usage: 36.4+ KB\n"
     ]
    },
    {
     "name": "stderr",
     "output_type": "stream",
     "text": [
      "C:\\Users\\HP\\AppData\\Local\\Temp\\ipykernel_3840\\262621266.py:1: SettingWithCopyWarning: \n",
      "A value is trying to be set on a copy of a slice from a DataFrame.\n",
      "Try using .loc[row_indexer,col_indexer] = value instead\n",
      "\n",
      "See the caveats in the documentation: https://pandas.pydata.org/pandas-docs/stable/user_guide/indexing.html#returning-a-view-versus-a-copy\n",
      "  house['price_usd'] = house['price_usd'].astype('float')\n"
     ]
    }
   ],
   "source": [
    "house['price_usd'] = house['price_usd'].astype('float')\n",
    "house.info()"
   ]
  },
  {
   "cell_type": "code",
   "execution_count": 550,
   "metadata": {},
   "outputs": [
    {
     "data": {
      "text/plain": [
       "<AxesSubplot:>"
      ]
     },
     "execution_count": 550,
     "metadata": {},
     "output_type": "execute_result"
    },
    {
     "data": {
      "image/png": "[encoded data removed]",
      "text/plain": [
       "<Figure size 432x288 with 2 Axes>"
      ]
     },
     "metadata": {
      "needs_background": "light"
     },
     "output_type": "display_data"
    }
   ],
   "source": [
    "#data visualization\n",
    "sns.heatmap(house.corr())"
   ]
  },
  {
   "cell_type": "code",
   "execution_count": 564,
   "metadata": {},
   "outputs": [],
   "source": [
    "x = house.iloc[:,1:5]\n",
    "y = house.iloc[:,6].values\n",
    "x = x.iloc[:, :-1].values"
   ]
  },
  {
   "cell_type": "code",
   "execution_count": 552,
   "metadata": {},
   "outputs": [
    {
     "data": {
      "text/plain": [
       "array([[1, 7, 19.560181],\n",
       "       [1, 14, 25.6884355],\n",
       "       [0, 9, 16.767704],\n",
       "       ...,\n",
       "       [1, 25, 21.0506531],\n",
       "       [1, 25, 21.3437962237],\n",
       "       [1, 16, 20.587378]], dtype=object)"
      ]
     },
     "execution_count": 552,
     "metadata": {},
     "output_type": "execute_result"
    }
   ],
   "source": [
    "labelencoder = LabelEncoder()\n",
    "x[:, 0] = labelencoder.fit_transform(x[:,0])\n",
    "x[:, 1] = labelencoder.fit_transform(x[:,1])\n",
    "x"
   ]
  },
  {
   "cell_type": "code",
   "execution_count": null,
   "metadata": {},
   "outputs": [],
   "source": []
  },
  {
   "cell_type": "code",
   "execution_count": 553,
   "metadata": {},
   "outputs": [],
   "source": [
    "#train dataset\n",
    "x_train, x_test, y_train, y_test = train_test_split(x, y, test_size=0.2, random_state=0)"
   ]
  },
  {
   "cell_type": "code",
   "execution_count": 554,
   "metadata": {},
   "outputs": [
    {
     "data": {
      "text/plain": [
       "array([176541.57,  65873.72,  43213.16, 118572.7 , 139652.29,  53225.96,\n",
       "       173865.39, 109587.88, 135931.12, 189716.32,  66911.83, 113302.8 ,\n",
       "        39524.23, 242415.29,  39514.86, 152790.8 ,  51644.99,  95309.84,\n",
       "        84298.37, 142287.24,  89040.15,  40645.77,  67965.56,  79048.46,\n",
       "       207057.88,  34246.21,  88270.78, 173865.39,  82875.83, 270872.74,\n",
       "        81664.04,  50052.15, 125950.55, 134382.39,  39514.86,  77325.47,\n",
       "       104846.1 ,  67438.69,  73761.07, 121207.64, 188398.84, 147557.13,\n",
       "        92542.77, 112402.96,  79029.72, 326656.19, 135085.08,  63223.78,\n",
       "        84298.37, 137017.34, 131716.2 , 110641.61, 201310.09,  84318.36,\n",
       "        47417.83,  36775.16, 118386.52,  55320.8 ,  34781.32, 237145.4 ,\n",
       "       149928.59,  77572.89, 115937.75,  39514.86, 155425.12, 105372.96,\n",
       "        89588.26,  71653.61,  42969.88,  94308.8 ,  34599.16,  34254.33,\n",
       "        65858.1 , 118544.58,  81630.71, 168636.73,  46840.27,  50052.15,\n",
       "       147522.15, 210743.21, 130873.22,  52698.97, 144887.83, 131716.2 ,\n",
       "       237089.17,  79029.72, 105372.96,  79029.72, 110641.61,  49537.03,\n",
       "        42149.18, 118544.58, 168596.74, 156742.28, 110667.85,  92223.21,\n",
       "       121178.91,  41095.45, 102738.64, 176499.72, 131716.2 , 131747.44,\n",
       "       158096.93, 158059.45,  68492.42,  65858.1 ,  78502.86, 147557.13,\n",
       "       250320.14, 174140.42, 110641.61,  67438.69,  68508.67,  43887.84,\n",
       "        42149.18,  36269.27,  68492.42,  62696.91,  60076.83, 151509.56,\n",
       "       263494.89, 115937.75, 181084.17,  43993.21, 156958.3 , 104319.23,\n",
       "        54267.07, 242415.29,  39946.36, 173865.39,  51662.25, 183989.47,\n",
       "       133442.74, 109387.67,  40568.59,  94308.8 ,  40041.72,  68492.42,\n",
       "        84318.36,  84318.36, 123052.11,  79029.72, 205477.28, 262967.9 ,\n",
       "        94858.16,  60603.82,  60603.82, 115910.26,  71126.75, 216014.58,\n",
       "       105191.37, 144922.18, 101196.61,  97469.99,  84298.37, 274034.68,\n",
       "       110667.85, 315618.38,  50579.02,  89567.02,  77975.99, 262905.55,\n",
       "        89061.27,  91463.73,  39524.23, 113302.8 , 160866.42, 139652.29,\n",
       "        60589.45,  34246.21,  73761.07, 210795.91, 110050.31,  71143.62,\n",
       "        42149.18,  76395.4 ,  99577.45,  93781.94,  76940.5 , 247626.47,\n",
       "       209692.2 ,  57422.47, 108007.29, 110641.61, 121178.91,  79029.72,\n",
       "        57006.77,  39524.23,  45310.37, 237145.4 , 112222.21, 110641.61,\n",
       "        68492.42,  52686.48, 161826.53,  43202.91,  67702.13,  76413.51,\n",
       "       236144.12,  97598.5 , 123813.23, 183989.52, 104343.97, 102763.  ,\n",
       "        72707.34,  84298.37,  84298.37, 269754.79, 120652.04,  91042.24,\n",
       "        63223.78,  84298.37,  83771.5 , 116173.69,  74920.17,  34246.21,\n",
       "        51644.99,  84825.23, 123813.23,  90115.25,  44783.51,  42676.05,\n",
       "        34246.21, 187081.37, 102211.77,  99577.45,  74972.86,  65858.1 ,\n",
       "       173906.62,  41105.2 , 210795.91, 312957.71, 144887.83, 230874.8 ,\n",
       "       120125.18, 142253.5 ,  45321.12,  44794.13, 123315.6 ,  51632.75,\n",
       "        94835.67,  36880.53, 226551.88,  56637.97,  52686.48,  97469.99,\n",
       "        57968.87, 210745.93,  48734.99, 126447.56, 104497.22,  51632.75,\n",
       "       209955.63,  39514.86, 316118.9 ,  68205.43,  37943.26, 136405.3 ,\n",
       "       137017.34,  62448.28, 158059.45, 139619.18,  57968.87,  42149.18,\n",
       "        47417.83,  78766.29, 105372.96,  56514.99,  51644.99, 189663.62,\n",
       "       100075.35, 242415.29, 144887.83, 177695.7 ,  42676.05,  92223.21,\n",
       "       147522.15, 144922.18, 226551.88,  34254.33, 126477.54,  64556.24,\n",
       "        34254.33, 184446.42,  93465.82, 225024.63, 289844.37, 306529.96,\n",
       "       176541.57, 197100.13,  73234.21,  80112.98,  91169.23,  57955.13,\n",
       "       284507.01,  40568.59, 226551.88, 139619.18,  90589.54,  66933.76,\n",
       "        77994.48,  47681.26,  62570.46, 142253.5 , 144887.83, 100104.31,\n",
       "       144922.18, 176979.24,  65858.1 ,  68492.42, 121178.91, 135430.6 ,\n",
       "       306635.33,  44783.51,  89567.02, 237089.17, 115937.75, 143530.93,\n",
       "       264390.77, 131716.2 , 100735.92, 120944.15,  99577.45,  68245.17,\n",
       "        67965.56, 246994.23,  34077.61, 173865.39, 128098.38,  99601.06,\n",
       "       273969.71,  44941.57,  71301.71, 155461.98, 100104.31,  83771.5 ,\n",
       "       173570.3 ,  64277.51,  63223.78,  98656.43,  39514.86,  51381.5 ,\n",
       "        71126.75,  86953.31,  94308.8 ,  62184.79, 104870.96, 109587.88,\n",
       "        39830.98,  63238.77, 147522.15, 124501.99, 154950.94, 147522.15,\n",
       "       115910.26, 189716.32, 183296.27,  79029.72,  92201.34, 129639.48,\n",
       "        34254.33,  50485.62, 142253.5 , 104607.47,  94818.28,  76395.4 ,\n",
       "        50591.01,  83000.89, 155461.98, 106848.18,  93781.94, 108534.15,\n",
       "       121207.64, 279238.36, 192087.77, 184182.92, 259470.39, 184446.42,\n",
       "       126447.56,  84318.36, 102763.  ,  37670.83,  62975.27,  68492.42,\n",
       "       105372.96, 152000.5 ,  35835.3 , 136984.85,  96363.57,  40041.72,\n",
       "       189716.32,  84318.36,  86300.46, 184446.42, 284047.49,  43729.78,\n",
       "        33358.45,  36889.28, 121178.91,  57955.13,  94835.67,  47417.83,\n",
       "       109324.45, 131747.44, 197146.87,  94594.66,  75375.18, 115910.26,\n",
       "       131716.2 ,  60589.45,  76413.51, 139652.29, 150719.07, 223970.65,\n",
       "        64281.19,  63238.77,  55333.92, 147557.13,  84298.37,  67981.68,\n",
       "       123813.23,  79048.46, 136984.85,  65858.1 ,  41622.32, 136984.85,\n",
       "       247626.47, 179134.04, 121355.2 ,  68492.42, 218648.9 ,  41095.45,\n",
       "        90620.75,  97469.99,  84845.35, 158096.93, 200208.63, 268701.06,\n",
       "       237089.17, 274034.68,  37943.26,  36889.28,  92023.21,  44783.51,\n",
       "       316118.9 ,  87703.06, 217911.29, 137017.34, 263432.41, 279238.36,\n",
       "       326733.66,  76395.4 , 226551.88, 181811.47, 126447.56, 147557.13,\n",
       "        40568.59,  47429.08,  88513.29, 144887.83,  35563.37,  68492.42,\n",
       "        63223.78, 131747.44,  46890.97, 221283.23])"
      ]
     },
     "execution_count": 554,
     "metadata": {},
     "output_type": "execute_result"
    }
   ],
   "source": [
    "y_train"
   ]
  },
  {
   "cell_type": "code",
   "execution_count": 555,
   "metadata": {},
   "outputs": [
    {
     "data": {
      "text/plain": [
       "array([176541.57,  65873.72,  43213.16, 118572.7 , 139652.29,  53225.96,\n",
       "       173865.39, 109587.88, 135931.12, 189716.32,  66911.83, 113302.8 ,\n",
       "        39524.23, 242415.29,  39514.86, 152790.8 ,  51644.99,  95309.84,\n",
       "        84298.37, 142287.24,  89040.15,  40645.77,  67965.56,  79048.46,\n",
       "       207057.88,  34246.21,  88270.78, 173865.39,  82875.83, 270872.74,\n",
       "        81664.04,  50052.15, 125950.55, 134382.39,  39514.86,  77325.47,\n",
       "       104846.1 ,  67438.69,  73761.07, 121207.64, 188398.84, 147557.13,\n",
       "        92542.77, 112402.96,  79029.72, 326656.19, 135085.08,  63223.78,\n",
       "        84298.37, 137017.34, 131716.2 , 110641.61, 201310.09,  84318.36,\n",
       "        47417.83,  36775.16, 118386.52,  55320.8 ,  34781.32, 237145.4 ,\n",
       "       149928.59,  77572.89, 115937.75,  39514.86, 155425.12, 105372.96,\n",
       "        89588.26,  71653.61,  42969.88,  94308.8 ,  34599.16,  34254.33,\n",
       "        65858.1 , 118544.58,  81630.71, 168636.73,  46840.27,  50052.15,\n",
       "       147522.15, 210743.21, 130873.22,  52698.97, 144887.83, 131716.2 ,\n",
       "       237089.17,  79029.72, 105372.96,  79029.72, 110641.61,  49537.03,\n",
       "        42149.18, 118544.58, 168596.74, 156742.28, 110667.85,  92223.21,\n",
       "       121178.91,  41095.45, 102738.64, 176499.72, 131716.2 , 131747.44,\n",
       "       158096.93, 158059.45,  68492.42,  65858.1 ,  78502.86, 147557.13,\n",
       "       250320.14, 174140.42, 110641.61,  67438.69,  68508.67,  43887.84,\n",
       "        42149.18,  36269.27,  68492.42,  62696.91,  60076.83, 151509.56,\n",
       "       263494.89, 115937.75, 181084.17,  43993.21, 156958.3 , 104319.23,\n",
       "        54267.07, 242415.29,  39946.36, 173865.39,  51662.25, 183989.47,\n",
       "       133442.74, 109387.67,  40568.59,  94308.8 ,  40041.72,  68492.42,\n",
       "        84318.36,  84318.36, 123052.11,  79029.72, 205477.28, 262967.9 ,\n",
       "        94858.16,  60603.82,  60603.82, 115910.26,  71126.75, 216014.58,\n",
       "       105191.37, 144922.18, 101196.61,  97469.99,  84298.37, 274034.68,\n",
       "       110667.85, 315618.38,  50579.02,  89567.02,  77975.99, 262905.55,\n",
       "        89061.27,  91463.73,  39524.23, 113302.8 , 160866.42, 139652.29,\n",
       "        60589.45,  34246.21,  73761.07, 210795.91, 110050.31,  71143.62,\n",
       "        42149.18,  76395.4 ,  99577.45,  93781.94,  76940.5 , 247626.47,\n",
       "       209692.2 ,  57422.47, 108007.29, 110641.61, 121178.91,  79029.72,\n",
       "        57006.77,  39524.23,  45310.37, 237145.4 , 112222.21, 110641.61,\n",
       "        68492.42,  52686.48, 161826.53,  43202.91,  67702.13,  76413.51,\n",
       "       236144.12,  97598.5 , 123813.23, 183989.52, 104343.97, 102763.  ,\n",
       "        72707.34,  84298.37,  84298.37, 269754.79, 120652.04,  91042.24,\n",
       "        63223.78,  84298.37,  83771.5 , 116173.69,  74920.17,  34246.21,\n",
       "        51644.99,  84825.23, 123813.23,  90115.25,  44783.51,  42676.05,\n",
       "        34246.21, 187081.37, 102211.77,  99577.45,  74972.86,  65858.1 ,\n",
       "       173906.62,  41105.2 , 210795.91, 312957.71, 144887.83, 230874.8 ,\n",
       "       120125.18, 142253.5 ,  45321.12,  44794.13, 123315.6 ,  51632.75,\n",
       "        94835.67,  36880.53, 226551.88,  56637.97,  52686.48,  97469.99,\n",
       "        57968.87, 210745.93,  48734.99, 126447.56, 104497.22,  51632.75,\n",
       "       209955.63,  39514.86, 316118.9 ,  68205.43,  37943.26, 136405.3 ,\n",
       "       137017.34,  62448.28, 158059.45, 139619.18,  57968.87,  42149.18,\n",
       "        47417.83,  78766.29, 105372.96,  56514.99,  51644.99, 189663.62,\n",
       "       100075.35, 242415.29, 144887.83, 177695.7 ,  42676.05,  92223.21,\n",
       "       147522.15, 144922.18, 226551.88,  34254.33, 126477.54,  64556.24,\n",
       "        34254.33, 184446.42,  93465.82, 225024.63, 289844.37, 306529.96,\n",
       "       176541.57, 197100.13,  73234.21,  80112.98,  91169.23,  57955.13,\n",
       "       284507.01,  40568.59, 226551.88, 139619.18,  90589.54,  66933.76,\n",
       "        77994.48,  47681.26,  62570.46, 142253.5 , 144887.83, 100104.31,\n",
       "       144922.18, 176979.24,  65858.1 ,  68492.42, 121178.91, 135430.6 ,\n",
       "       306635.33,  44783.51,  89567.02, 237089.17, 115937.75, 143530.93,\n",
       "       264390.77, 131716.2 , 100735.92, 120944.15,  99577.45,  68245.17,\n",
       "        67965.56, 246994.23,  34077.61, 173865.39, 128098.38,  99601.06,\n",
       "       273969.71,  44941.57,  71301.71, 155461.98, 100104.31,  83771.5 ,\n",
       "       173570.3 ,  64277.51,  63223.78,  98656.43,  39514.86,  51381.5 ,\n",
       "        71126.75,  86953.31,  94308.8 ,  62184.79, 104870.96, 109587.88,\n",
       "        39830.98,  63238.77, 147522.15, 124501.99, 154950.94, 147522.15,\n",
       "       115910.26, 189716.32, 183296.27,  79029.72,  92201.34, 129639.48,\n",
       "        34254.33,  50485.62, 142253.5 , 104607.47,  94818.28,  76395.4 ,\n",
       "        50591.01,  83000.89, 155461.98, 106848.18,  93781.94, 108534.15,\n",
       "       121207.64, 279238.36, 192087.77, 184182.92, 259470.39, 184446.42,\n",
       "       126447.56,  84318.36, 102763.  ,  37670.83,  62975.27,  68492.42,\n",
       "       105372.96, 152000.5 ,  35835.3 , 136984.85,  96363.57,  40041.72,\n",
       "       189716.32,  84318.36,  86300.46, 184446.42, 284047.49,  43729.78,\n",
       "        33358.45,  36889.28, 121178.91,  57955.13,  94835.67,  47417.83,\n",
       "       109324.45, 131747.44, 197146.87,  94594.66,  75375.18, 115910.26,\n",
       "       131716.2 ,  60589.45,  76413.51, 139652.29, 150719.07, 223970.65,\n",
       "        64281.19,  63238.77,  55333.92, 147557.13,  84298.37,  67981.68,\n",
       "       123813.23,  79048.46, 136984.85,  65858.1 ,  41622.32, 136984.85,\n",
       "       247626.47, 179134.04, 121355.2 ,  68492.42, 218648.9 ,  41095.45,\n",
       "        90620.75,  97469.99,  84845.35, 158096.93, 200208.63, 268701.06,\n",
       "       237089.17, 274034.68,  37943.26,  36889.28,  92023.21,  44783.51,\n",
       "       316118.9 ,  87703.06, 217911.29, 137017.34, 263432.41, 279238.36,\n",
       "       326733.66,  76395.4 , 226551.88, 181811.47, 126447.56, 147557.13,\n",
       "        40568.59,  47429.08,  88513.29, 144887.83,  35563.37,  68492.42,\n",
       "        63223.78, 131747.44,  46890.97, 221283.23])"
      ]
     },
     "execution_count": 555,
     "metadata": {},
     "output_type": "execute_result"
    }
   ],
   "source": [
    "y_train"
   ]
  },
  {
   "cell_type": "code",
   "execution_count": 556,
   "metadata": {},
   "outputs": [
    {
     "data": {
      "text/html": [
       "<style>#sk-container-id-12 {color: black;background-color: white;}#sk-container-id-12 pre{padding: 0;}#sk-container-id-12 div.sk-toggleable {background-color: white;}#sk-container-id-12 label.sk-toggleable__label {cursor: pointer;display: block;width: 100%;margin-bottom: 0;padding: 0.3em;box-sizing: border-box;text-align: center;}#sk-container-id-12 label.sk-toggleable__label-arrow:before {content: \"▸\";float: left;margin-right: 0.25em;color: #696969;}#sk-container-id-12 label.sk-toggleable__label-arrow:hover:before {color: black;}#sk-container-id-12 div.sk-estimator:hover label.sk-toggleable__label-arrow:before {color: black;}#sk-container-id-12 div.sk-toggleable__content {max-height: 0;max-width: 0;overflow: hidden;text-align: left;background-color: #f0f8ff;}#sk-container-id-12 div.sk-toggleable__content pre {margin: 0.2em;color: black;border-radius: 0.25em;background-color: #f0f8ff;}#sk-container-id-12 input.sk-toggleable__control:checked~div.sk-toggleable__content {max-height: 200px;max-width: 100%;overflow: auto;}#sk-container-id-12 input.sk-toggleable__control:checked~label.sk-toggleable__label-arrow:before {content: \"▾\";}#sk-container-id-12 div.sk-estimator input.sk-toggleable__control:checked~label.sk-toggleable__label {background-color: #d4ebff;}#sk-container-id-12 div.sk-label input.sk-toggleable__control:checked~label.sk-toggleable__label {background-color: #d4ebff;}#sk-container-id-12 input.sk-hidden--visually {border: 0;clip: rect(1px 1px 1px 1px);clip: rect(1px, 1px, 1px, 1px);height: 1px;margin: -1px;overflow: hidden;padding: 0;position: absolute;width: 1px;}#sk-container-id-12 div.sk-estimator {font-family: monospace;background-color: #f0f8ff;border: 1px dotted black;border-radius: 0.25em;box-sizing: border-box;margin-bottom: 0.5em;}#sk-container-id-12 div.sk-estimator:hover {background-color: #d4ebff;}#sk-container-id-12 div.sk-parallel-item::after {content: \"\";width: 100%;border-bottom: 1px solid gray;flex-grow: 1;}#sk-container-id-12 div.sk-label:hover label.sk-toggleable__label {background-color: #d4ebff;}#sk-container-id-12 div.sk-serial::before {content: \"\";position: absolute;border-left: 1px solid gray;box-sizing: border-box;top: 0;bottom: 0;left: 50%;z-index: 0;}#sk-container-id-12 div.sk-serial {display: flex;flex-direction: column;align-items: center;background-color: white;padding-right: 0.2em;padding-left: 0.2em;position: relative;}#sk-container-id-12 div.sk-item {position: relative;z-index: 1;}#sk-container-id-12 div.sk-parallel {display: flex;align-items: stretch;justify-content: center;background-color: white;position: relative;}#sk-container-id-12 div.sk-item::before, #sk-container-id-12 div.sk-parallel-item::before {content: \"\";position: absolute;border-left: 1px solid gray;box-sizing: border-box;top: 0;bottom: 0;left: 50%;z-index: -1;}#sk-container-id-12 div.sk-parallel-item {display: flex;flex-direction: column;z-index: 1;position: relative;background-color: white;}#sk-container-id-12 div.sk-parallel-item:first-child::after {align-self: flex-end;width: 50%;}#sk-container-id-12 div.sk-parallel-item:last-child::after {align-self: flex-start;width: 50%;}#sk-container-id-12 div.sk-parallel-item:only-child::after {width: 0;}#sk-container-id-12 div.sk-dashed-wrapped {border: 1px dashed gray;margin: 0 0.4em 0.5em 0.4em;box-sizing: border-box;padding-bottom: 0.4em;background-color: white;}#sk-container-id-12 div.sk-label label {font-family: monospace;font-weight: bold;display: inline-block;line-height: 1.2em;}#sk-container-id-12 div.sk-label-container {text-align: center;}#sk-container-id-12 div.sk-container {/* jupyter's `normalize.less` sets `[hidden] { display: none; }` but bootstrap.min.css set `[hidden] { display: none !important; }` so we also need the `!important` here to be able to override the default hidden behavior on the sphinx rendered scikit-learn.org. See: https://github.com/scikit-learn/scikit-learn/issues/21755 */display: inline-block !important;position: relative;}#sk-container-id-12 div.sk-text-repr-fallback {display: none;}</style><div id=\"sk-container-id-12\" class=\"sk-top-container\"><div class=\"sk-text-repr-fallback\"><pre>LinearRegression()</pre><b>In a Jupyter environment, please rerun this cell to show the HTML representation or trust the notebook. <br />On GitHub, the HTML representation is unable to render, please try loading this page with nbviewer.org.</b></div><div class=\"sk-container\" hidden><div class=\"sk-item\"><div class=\"sk-estimator sk-toggleable\"><input class=\"sk-toggleable__control sk-hidden--visually\" id=\"sk-estimator-id-12\" type=\"checkbox\" checked><label for=\"sk-estimator-id-12\" class=\"sk-toggleable__label sk-toggleable__label-arrow\">LinearRegression</label><div class=\"sk-toggleable__content\"><pre>LinearRegression()</pre></div></div></div></div></div>"
      ],
      "text/plain": [
       "LinearRegression()"
      ]
     },
     "execution_count": 556,
     "metadata": {},
     "output_type": "execute_result"
    }
   ],
   "source": [
    "regressor = LinearRegression()\n",
    "regressor.fit(x_train, y_train)\n"
   ]
  },
  {
   "cell_type": "code",
   "execution_count": 557,
   "metadata": {},
   "outputs": [],
   "source": [
    "y_pred = regressor.predict(x_test)"
   ]
  },
  {
   "cell_type": "code",
   "execution_count": 558,
   "metadata": {},
   "outputs": [
    {
     "data": {
      "text/plain": [
       "array([-8755.17386087,  -842.84169808, -3352.14211859])"
      ]
     },
     "execution_count": 558,
     "metadata": {},
     "output_type": "execute_result"
    }
   ],
   "source": [
    "regressor.coef_"
   ]
  },
  {
   "cell_type": "code",
   "execution_count": 559,
   "metadata": {},
   "outputs": [
    {
     "data": {
      "text/plain": [
       "202751.98726743762"
      ]
     },
     "execution_count": 559,
     "metadata": {},
     "output_type": "execute_result"
    }
   ],
   "source": [
    "regressor.intercept_"
   ]
  },
  {
   "cell_type": "code",
   "execution_count": 560,
   "metadata": {},
   "outputs": [
    {
     "data": {
      "text/plain": [
       "-19.3670360080595"
      ]
     },
     "execution_count": 560,
     "metadata": {},
     "output_type": "execute_result"
    }
   ],
   "source": [
    "r2_score(y_pred, y_test)"
   ]
  }
 ],
 "metadata": {
  "interpreter": {
   "hash": "9bf2ca0f4a7adc3ce2f237ca763c1538d3ef289a4e7face3612a01cdae9f6807"
  },
  "kernelspec": {
   "display_name": "Python 3.10.4 64-bit",
   "language": "python",
   "name": "python3"
  },
  "language_info": {
   "codemirror_mode": {
    "name": "ipython",
    "version": 3
   },
   "file_extension": ".py",
   "mimetype": "text/x-python",
   "name": "python",
   "nbconvert_exporter": "python",
   "pygments_lexer": "ipython3",
   "version": "3.10.4"
  },
  "orig_nbformat": 4
 },
 "nbformat": 4,
 "nbformat_minor": 2
}
