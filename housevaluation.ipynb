{
 "cells": [
  {
   "cell_type": "code",
   "execution_count": 260,
   "metadata": {},
   "outputs": [],
   "source": [
    "import pandas as pd\n",
    "import matplotlib.pyplot as plt\n",
    "import seaborn as sns\n",
    "from sklearn.model_selection import train_test_split\n",
    "from sklearn.ensemble import RandomForestClassifier\n",
    "from sklearn.metrics import accuracy_score, r2_score\n",
    "from sklearn.linear_model import LinearRegression\n",
    "from sklearn.preprocessing import LabelEncoder, StandardScaler"
   ]
  },
  {
   "cell_type": "code",
   "execution_count": 261,
   "metadata": {},
   "outputs": [
    {
     "data": {
      "text/html": [
       "<div>\n",
       "<style scoped>\n",
       "    .dataframe tbody tr th:only-of-type {\n",
       "        vertical-align: middle;\n",
       "    }\n",
       "\n",
       "    .dataframe tbody tr th {\n",
       "        vertical-align: top;\n",
       "    }\n",
       "\n",
       "    .dataframe thead th {\n",
       "        text-align: right;\n",
       "    }\n",
       "</style>\n",
       "<table border=\"1\" class=\"dataframe\">\n",
       "  <thead>\n",
       "    <tr style=\"text-align: right;\">\n",
       "      <th></th>\n",
       "      <th>sn</th>\n",
       "      <th>property_type</th>\n",
       "      <th>state</th>\n",
       "      <th>lat</th>\n",
       "      <th>lon</th>\n",
       "      <th>area_m2</th>\n",
       "      <th>price_usd</th>\n",
       "    </tr>\n",
       "  </thead>\n",
       "  <tbody>\n",
       "    <tr>\n",
       "      <th>0</th>\n",
       "      <td>1</td>\n",
       "      <td>house</td>\n",
       "      <td>Estado de México</td>\n",
       "      <td>19.560181</td>\n",
       "      <td>-99.233528</td>\n",
       "      <td>150.0</td>\n",
       "      <td>67 965.56</td>\n",
       "    </tr>\n",
       "    <tr>\n",
       "      <th>1</th>\n",
       "      <td>2</td>\n",
       "      <td>house</td>\n",
       "      <td>Nuevo León</td>\n",
       "      <td>25.688436</td>\n",
       "      <td>-100.198807</td>\n",
       "      <td>186.0</td>\n",
       "      <td>63 223.78</td>\n",
       "    </tr>\n",
       "    <tr>\n",
       "      <th>2</th>\n",
       "      <td>3</td>\n",
       "      <td>apartment</td>\n",
       "      <td>Guerrero</td>\n",
       "      <td>16.767704</td>\n",
       "      <td>-99.764383</td>\n",
       "      <td>82.0</td>\n",
       "      <td>84 298.37</td>\n",
       "    </tr>\n",
       "    <tr>\n",
       "      <th>3</th>\n",
       "      <td>4</td>\n",
       "      <td>apartment</td>\n",
       "      <td>Guerrero</td>\n",
       "      <td>16.829782</td>\n",
       "      <td>-99.911012</td>\n",
       "      <td>150.0</td>\n",
       "      <td>94 308.80</td>\n",
       "    </tr>\n",
       "    <tr>\n",
       "      <th>4</th>\n",
       "      <td>5</td>\n",
       "      <td>house</td>\n",
       "      <td>Veracruz de Ignacio de la Llave</td>\n",
       "      <td>NaN</td>\n",
       "      <td>NaN</td>\n",
       "      <td>175.0</td>\n",
       "      <td>94 835.67</td>\n",
       "    </tr>\n",
       "    <tr>\n",
       "      <th>...</th>\n",
       "      <td>...</td>\n",
       "      <td>...</td>\n",
       "      <td>...</td>\n",
       "      <td>...</td>\n",
       "      <td>...</td>\n",
       "      <td>...</td>\n",
       "      <td>...</td>\n",
       "    </tr>\n",
       "    <tr>\n",
       "      <th>695</th>\n",
       "      <td>696</td>\n",
       "      <td>house</td>\n",
       "      <td>Morelos</td>\n",
       "      <td>NaN</td>\n",
       "      <td>NaN</td>\n",
       "      <td>310.0</td>\n",
       "      <td>237 089.17</td>\n",
       "    </tr>\n",
       "    <tr>\n",
       "      <th>696</th>\n",
       "      <td>697</td>\n",
       "      <td>house</td>\n",
       "      <td>Yucatán</td>\n",
       "      <td>21.050653</td>\n",
       "      <td>-89.558841</td>\n",
       "      <td>334.0</td>\n",
       "      <td>137 017.34</td>\n",
       "    </tr>\n",
       "    <tr>\n",
       "      <th>697</th>\n",
       "      <td>698</td>\n",
       "      <td>house</td>\n",
       "      <td>Yucatán</td>\n",
       "      <td>21.343796</td>\n",
       "      <td>-89.262060</td>\n",
       "      <td>130.0</td>\n",
       "      <td>110 404.35</td>\n",
       "    </tr>\n",
       "    <tr>\n",
       "      <th>698</th>\n",
       "      <td>699</td>\n",
       "      <td>apartment</td>\n",
       "      <td>Nuevo León</td>\n",
       "      <td>NaN</td>\n",
       "      <td>NaN</td>\n",
       "      <td>155.0</td>\n",
       "      <td>184 446.42</td>\n",
       "    </tr>\n",
       "    <tr>\n",
       "      <th>699</th>\n",
       "      <td>700</td>\n",
       "      <td>house</td>\n",
       "      <td>Querétaro</td>\n",
       "      <td>20.587378</td>\n",
       "      <td>-100.418361</td>\n",
       "      <td>106.0</td>\n",
       "      <td>56 637.97</td>\n",
       "    </tr>\n",
       "  </tbody>\n",
       "</table>\n",
       "<p>700 rows × 7 columns</p>\n",
       "</div>"
      ],
      "text/plain": [
       "      sn property_type                            state        lat  \\\n",
       "0      1         house                 Estado de México  19.560181   \n",
       "1      2         house                       Nuevo León  25.688436   \n",
       "2      3     apartment                         Guerrero  16.767704   \n",
       "3      4     apartment                         Guerrero  16.829782   \n",
       "4      5         house  Veracruz de Ignacio de la Llave        NaN   \n",
       "..   ...           ...                              ...        ...   \n",
       "695  696         house                          Morelos        NaN   \n",
       "696  697         house                          Yucatán  21.050653   \n",
       "697  698         house                          Yucatán  21.343796   \n",
       "698  699     apartment                       Nuevo León        NaN   \n",
       "699  700         house                        Querétaro  20.587378   \n",
       "\n",
       "            lon  area_m2   price_usd  \n",
       "0    -99.233528    150.0   67 965.56  \n",
       "1   -100.198807    186.0   63 223.78  \n",
       "2    -99.764383     82.0   84 298.37  \n",
       "3    -99.911012    150.0   94 308.80  \n",
       "4           NaN    175.0   94 835.67  \n",
       "..          ...      ...         ...  \n",
       "695         NaN    310.0  237 089.17  \n",
       "696  -89.558841    334.0  137 017.34  \n",
       "697  -89.262060    130.0  110 404.35  \n",
       "698         NaN    155.0  184 446.42  \n",
       "699 -100.418361    106.0   56 637.97  \n",
       "\n",
       "[700 rows x 7 columns]"
      ]
     },
     "execution_count": 261,
     "metadata": {},
     "output_type": "execute_result"
    }
   ],
   "source": [
    "house = pd.read_csv(r\"C:\\Users\\HP\\Desktop\\CSV files\\df1.csv\")\n",
    "house"
   ]
  },
  {
   "cell_type": "code",
   "execution_count": 262,
   "metadata": {},
   "outputs": [
    {
     "data": {
      "text/plain": [
       "0       67 965.56\n",
       "1       63 223.78\n",
       "2       84 298.37\n",
       "3       94 308.80\n",
       "5      105 191.37\n",
       "          ...    \n",
       "693    115 910.26\n",
       "694     77 572.89\n",
       "696    137 017.34\n",
       "697    110 404.35\n",
       "699     56 637.97\n",
       "Name: price_usd, Length: 583, dtype: object"
      ]
     },
     "execution_count": 262,
     "metadata": {},
     "output_type": "execute_result"
    }
   ],
   "source": [
    "house = house.dropna()\n",
    "house.isnull().sum()\n",
    "house['price_usd']"
   ]
  },
  {
   "cell_type": "code",
   "execution_count": 263,
   "metadata": {},
   "outputs": [
    {
     "name": "stderr",
     "output_type": "stream",
     "text": [
      "C:\\Users\\HP\\AppData\\Local\\Temp\\ipykernel_11128\\78044408.py:1: SettingWithCopyWarning: \n",
      "A value is trying to be set on a copy of a slice from a DataFrame.\n",
      "Try using .loc[row_indexer,col_indexer] = value instead\n",
      "\n",
      "See the caveats in the documentation: https://pandas.pydata.org/pandas-docs/stable/user_guide/indexing.html#returning-a-view-versus-a-copy\n",
      "  house['price_usd'] = house['price_usd'].replace(\" \", \"\", regex=True)\n"
     ]
    },
    {
     "data": {
      "text/html": [
       "<div>\n",
       "<style scoped>\n",
       "    .dataframe tbody tr th:only-of-type {\n",
       "        vertical-align: middle;\n",
       "    }\n",
       "\n",
       "    .dataframe tbody tr th {\n",
       "        vertical-align: top;\n",
       "    }\n",
       "\n",
       "    .dataframe thead th {\n",
       "        text-align: right;\n",
       "    }\n",
       "</style>\n",
       "<table border=\"1\" class=\"dataframe\">\n",
       "  <thead>\n",
       "    <tr style=\"text-align: right;\">\n",
       "      <th></th>\n",
       "      <th>sn</th>\n",
       "      <th>property_type</th>\n",
       "      <th>state</th>\n",
       "      <th>lat</th>\n",
       "      <th>lon</th>\n",
       "      <th>area_m2</th>\n",
       "      <th>price_usd</th>\n",
       "    </tr>\n",
       "  </thead>\n",
       "  <tbody>\n",
       "    <tr>\n",
       "      <th>0</th>\n",
       "      <td>1</td>\n",
       "      <td>house</td>\n",
       "      <td>Estado de México</td>\n",
       "      <td>19.560181</td>\n",
       "      <td>-99.233528</td>\n",
       "      <td>150.0</td>\n",
       "      <td>67965.56</td>\n",
       "    </tr>\n",
       "    <tr>\n",
       "      <th>1</th>\n",
       "      <td>2</td>\n",
       "      <td>house</td>\n",
       "      <td>Nuevo León</td>\n",
       "      <td>25.688436</td>\n",
       "      <td>-100.198807</td>\n",
       "      <td>186.0</td>\n",
       "      <td>63223.78</td>\n",
       "    </tr>\n",
       "    <tr>\n",
       "      <th>2</th>\n",
       "      <td>3</td>\n",
       "      <td>apartment</td>\n",
       "      <td>Guerrero</td>\n",
       "      <td>16.767704</td>\n",
       "      <td>-99.764383</td>\n",
       "      <td>82.0</td>\n",
       "      <td>84298.37</td>\n",
       "    </tr>\n",
       "    <tr>\n",
       "      <th>3</th>\n",
       "      <td>4</td>\n",
       "      <td>apartment</td>\n",
       "      <td>Guerrero</td>\n",
       "      <td>16.829782</td>\n",
       "      <td>-99.911012</td>\n",
       "      <td>150.0</td>\n",
       "      <td>94308.80</td>\n",
       "    </tr>\n",
       "    <tr>\n",
       "      <th>5</th>\n",
       "      <td>6</td>\n",
       "      <td>house</td>\n",
       "      <td>Yucatán</td>\n",
       "      <td>21.052583</td>\n",
       "      <td>-89.538639</td>\n",
       "      <td>205.0</td>\n",
       "      <td>105191.37</td>\n",
       "    </tr>\n",
       "  </tbody>\n",
       "</table>\n",
       "</div>"
      ],
      "text/plain": [
       "   sn property_type             state        lat         lon  area_m2  \\\n",
       "0   1         house  Estado de México  19.560181  -99.233528    150.0   \n",
       "1   2         house        Nuevo León  25.688436 -100.198807    186.0   \n",
       "2   3     apartment          Guerrero  16.767704  -99.764383     82.0   \n",
       "3   4     apartment          Guerrero  16.829782  -99.911012    150.0   \n",
       "5   6         house           Yucatán  21.052583  -89.538639    205.0   \n",
       "\n",
       "   price_usd  \n",
       "0   67965.56  \n",
       "1   63223.78  \n",
       "2   84298.37  \n",
       "3   94308.80  \n",
       "5  105191.37  "
      ]
     },
     "execution_count": 263,
     "metadata": {},
     "output_type": "execute_result"
    }
   ],
   "source": [
    "house['price_usd'] = house['price_usd'].replace(\" \", \"\", regex=True)\n",
    "house.head()"
   ]
  },
  {
   "cell_type": "code",
   "execution_count": 264,
   "metadata": {},
   "outputs": [
    {
     "name": "stdout",
     "output_type": "stream",
     "text": [
      "<class 'pandas.core.frame.DataFrame'>\n",
      "Int64Index: 583 entries, 0 to 699\n",
      "Data columns (total 7 columns):\n",
      " #   Column         Non-Null Count  Dtype  \n",
      "---  ------         --------------  -----  \n",
      " 0   sn             583 non-null    int64  \n",
      " 1   property_type  583 non-null    object \n",
      " 2   state          583 non-null    object \n",
      " 3   lat            583 non-null    float64\n",
      " 4   lon            583 non-null    float64\n",
      " 5   area_m2        583 non-null    float64\n",
      " 6   price_usd      583 non-null    float64\n",
      "dtypes: float64(4), int64(1), object(2)\n",
      "memory usage: 36.4+ KB\n"
     ]
    },
    {
     "name": "stderr",
     "output_type": "stream",
     "text": [
      "C:\\Users\\HP\\AppData\\Local\\Temp\\ipykernel_11128\\262621266.py:1: SettingWithCopyWarning: \n",
      "A value is trying to be set on a copy of a slice from a DataFrame.\n",
      "Try using .loc[row_indexer,col_indexer] = value instead\n",
      "\n",
      "See the caveats in the documentation: https://pandas.pydata.org/pandas-docs/stable/user_guide/indexing.html#returning-a-view-versus-a-copy\n",
      "  house['price_usd'] = house['price_usd'].astype('float')\n"
     ]
    }
   ],
   "source": [
    "house['price_usd'] = house['price_usd'].astype('float')\n",
    "house.info()"
   ]
  },
  {
   "cell_type": "code",
   "execution_count": 265,
   "metadata": {},
   "outputs": [
    {
     "data": {
      "text/plain": [
       "<AxesSubplot:>"
      ]
     },
     "execution_count": 265,
     "metadata": {},
     "output_type": "execute_result"
    },
    {
     "data": {
      "image/png": "[encoded data removed]",
      "text/plain": [
       "<Figure size 432x288 with 2 Axes>"
      ]
     },
     "metadata": {
      "needs_background": "light"
     },
     "output_type": "display_data"
    }
   ],
   "source": [
    "#data visualization\n",
    "sns.heatmap(house.corr())"
   ]
  },
  {
   "cell_type": "code",
   "execution_count": 266,
   "metadata": {},
   "outputs": [
    {
     "data": {
      "text/plain": [
       "array([ 67965.56,  63223.78,  84298.37,  94308.8 , 105191.37, 274034.68,\n",
       "       151509.56,  79029.72, 115937.75,  63223.78, 157269.15, 104607.47,\n",
       "        63238.77,  77994.48, 131716.2 , 203167.1 , 264390.77,  63238.77,\n",
       "        36775.16, 173570.3 , 131716.2 ,  67175.26, 262905.55,  40041.72,\n",
       "        64556.24,  44783.51, 104846.1 , 158059.45,  84845.35,  39514.86,\n",
       "       158059.45,  92223.21, 129639.48, 120125.18, 158059.45,  51632.75,\n",
       "       155461.98, 126447.56,  51662.25,  97598.5 ,  57955.13, 108534.15,\n",
       "       247626.47,  86300.46,  44794.13,  40841.7 ,  95309.84, 150719.07,\n",
       "        81683.41,  65858.1 , 192087.77,  60603.82, 237089.17,  41095.45,\n",
       "       158096.93, 227351.46,  67438.69, 136984.85,  93781.94, 205477.28,\n",
       "        43887.84,  94835.67, 105372.96,  79029.72, 176499.72,  81630.71,\n",
       "       105372.96, 126477.54,  34254.33,  72707.34,  35563.37, 207057.88,\n",
       "        76395.4 , 126447.56, 216014.58,  52423.05, 118386.52,  63238.77,\n",
       "       173865.39, 226551.88,  34254.33, 139652.29,  84298.37,  68492.42,\n",
       "        63238.77,  65873.72,  50591.01, 126447.56, 142253.5 , 242415.29,\n",
       "        72707.34, 147557.13, 150192.08, 110641.61,  86953.31, 131747.44,\n",
       "       189716.32, 176499.72, 152000.5 , 137017.34,  78502.86, 102738.64,\n",
       "        88270.78, 111721.83,  51644.99,  57006.77, 110641.61, 142287.24,\n",
       "        82875.83, 120944.15,  89567.02, 197100.13,  34599.16,  47417.83,\n",
       "       116173.69, 326733.66, 247626.47, 121178.91, 105372.96, 123813.23,\n",
       "       160866.42, 142253.5 ,  42159.18,  37670.83, 123052.11, 104870.96,\n",
       "        46840.27,  94835.67,  97469.99, 306529.96, 136984.85, 139652.29,\n",
       "        89567.02, 230874.8 , 147557.13,  50579.02, 102211.77,  79029.72,\n",
       "       105372.96,  67965.56, 110641.61, 110667.85, 136490.35,  60589.45,\n",
       "        68508.67,  76413.51, 120652.04,  87703.06, 259470.39, 237089.17,\n",
       "       236144.12, 237089.17, 143530.93, 131747.44,  79029.72,  92223.21,\n",
       "        42149.18,  56387.9 ,  60603.82,  39514.86, 110050.31,  65858.1 ,\n",
       "       171306.94,  84318.36, 108007.29,  63118.4 ,  73234.21, 173865.39,\n",
       "        90115.25,  94594.66,  39524.23,  84298.37,  76677.01, 114487.72,\n",
       "       181811.47,  94308.8 ,  84825.23, 217911.29,  65858.1 ,  49537.03,\n",
       "        76413.51, 283558.65,  92201.34, 158096.93, 124501.99,  41095.45,\n",
       "        78502.86,  96363.57,  67438.69,  42676.05,  68508.67,  76940.5 ,\n",
       "        46890.97, 106848.18,  42149.18,  93781.94, 115937.75, 109324.45,\n",
       "        67702.13,  36880.53,  63223.78,  36889.28,  93255.07,  64281.19,\n",
       "       144922.18,  78995.76,  37386.32,  91169.23, 104319.23, 184182.92,\n",
       "       123981.3 ,  50064.02,  56514.99, 270872.74,  92223.21, 144887.83,\n",
       "       184446.42,  62448.28,  57968.87,  71126.75,  39524.23,  84298.37,\n",
       "        62975.27, 289844.37, 102738.64, 326656.19,  71126.75, 131716.2 ,\n",
       "       100104.31, 173986.78, 215222.62, 188398.84, 144887.83,  86932.69,\n",
       "       226551.88, 139652.29,  57955.13, 246994.23,  42149.18,  36269.27,\n",
       "        50087.3 ,  63223.78, 110588.92,  39514.86, 274034.68, 266066.74,\n",
       "        39462.17,  39514.86,  71301.71, 121207.64, 242415.29, 144887.83,\n",
       "       131747.44, 104343.97,  74972.86, 312957.71,  47417.83,  41622.32,\n",
       "       142253.5 ,  34254.33,  34077.61, 118544.58, 103606.19,  52159.61,\n",
       "       263494.89,  92023.21,  83000.89,  80112.98,  51644.99,  39514.86,\n",
       "       121207.64,  34781.32, 209902.95,  68492.42, 284507.01, 189716.32,\n",
       "        89061.27,  68492.42, 156958.3 , 144887.83, 109587.88, 155461.98,\n",
       "       210745.93,  52698.97,  71765.83, 109387.67,  39830.98,  47681.26,\n",
       "        44783.51,  91042.24,  45321.12,  79048.46,  94835.67,  97469.99,\n",
       "       183296.27, 104497.22,  63223.78,  48734.99, 262967.9 , 130873.22,\n",
       "        93465.82, 166001.78, 210745.93, 105372.96,  60076.83,  75375.18,\n",
       "        94308.8 ,  50485.62,  76395.4 , 136405.3 ,  89567.02, 105372.96,\n",
       "       157479.9 ,  39260.73,  47429.08,  43202.91, 135085.08,  99601.06,\n",
       "       237145.4 ,  44783.51,  40568.59,  65858.1 ,  53740.21, 273969.71,\n",
       "       223970.65,  33719.34,  62570.46,  66933.76,  64277.51,  68492.42,\n",
       "       110641.61, 100735.92,  66911.83, 324021.87,  47417.83, 121355.2 ,\n",
       "       135931.12,  74920.17,  39524.23, 137017.34,  79029.72,  51632.75,\n",
       "        86932.69,  89040.15,  86953.31,  34246.21,  84298.37,  65858.1 ,\n",
       "       131716.2 , 176541.57,  40645.77, 178080.31, 173865.39, 123315.6 ,\n",
       "       102763.  , 173906.62,  99577.45, 315618.38,  62696.91, 131747.44,\n",
       "        94818.28,  50052.15, 176541.57,  51381.5 , 155425.12,  68492.42,\n",
       "       179134.04,  77975.99, 121178.91, 173865.39, 184446.42, 154950.94,\n",
       "       112222.21, 115910.26, 135430.6 , 174140.42, 181084.17,  35835.3 ,\n",
       "       131747.44, 183989.52,  97469.99,  34254.33, 237089.17,  33358.45,\n",
       "        68492.42,  71653.61, 192305.66,  57955.13, 179134.04, 209692.2 ,\n",
       "        65858.1 , 187081.37, 180187.77,  44783.51, 284047.49,  55320.8 ,\n",
       "        88513.29, 209955.63,  55333.92, 134382.39,  43213.16,  40041.72,\n",
       "       250320.14, 101158.04,  34246.21, 118544.58,  57968.87, 139619.18,\n",
       "       147557.13, 101196.61, 155461.98, 279238.36, 224660.17, 115937.75,\n",
       "        98523.72, 152790.8 , 144922.18,  60589.45,  52686.48,  68492.42,\n",
       "       133442.74,  65873.72, 110641.61, 316118.9 ,  92728.21, 156742.28,\n",
       "        52686.48, 147522.15, 225024.63, 226551.88,  67981.68, 279238.36,\n",
       "        42149.18,  43993.21, 139619.18, 121178.91,  90589.54,  80635.87,\n",
       "        77325.47, 306635.33, 110641.61, 144922.18, 136984.85, 125950.55,\n",
       "       147522.15,  91463.73,  89588.26,  34246.21, 263432.41, 118572.7 ,\n",
       "        50064.02, 102763.  ,  41105.2 , 208160.96, 100104.31,  94256.11,\n",
       "        75078.23,  50052.15, 109587.88, 200208.63,  57422.47,  50052.15,\n",
       "       139619.18,  47417.83,  39946.36,  83771.5 ,  57955.13, 210745.93,\n",
       "       131716.2 , 210743.21, 168636.73,  68205.43, 144887.83,  51393.55,\n",
       "       131716.2 ,  78766.29, 100075.35,  99577.45,  37943.26,  62184.79,\n",
       "       189663.62, 176979.24, 242415.29,  68245.17,  84318.36, 210795.91,\n",
       "        40568.59,  84318.36, 218648.9 , 128098.38,  43202.91, 131768.89,\n",
       "        42676.05, 316118.9 ,  77975.99,  51644.99,  51644.99, 110667.85,\n",
       "       113302.8 , 150683.34, 236091.42,  79029.72,  72707.34,  99577.45,\n",
       "        72197.6 ,  65858.1 ,  37943.26,  42969.88, 124340.1 ,  76395.4 ,\n",
       "       268701.06,  84298.37,  43729.78, 189716.32, 237145.4 ,  98656.43,\n",
       "        53225.96, 123813.23,  41105.2 , 177695.7 ,  83771.5 ,  47417.83,\n",
       "       142253.5 ,  73761.07,  79048.46, 184446.42, 147522.15,  44941.57,\n",
       "       201310.09,  47417.83,  79029.72, 113302.8 ,  81664.04, 209692.2 ,\n",
       "       123813.23,  84318.36, 126447.56, 226551.88, 147522.15, 194986.21,\n",
       "        92542.77,  41095.45,  84318.36,  37943.26,  36889.28,  64804.37,\n",
       "       269754.79,  40568.59,  94858.16,  79029.72,  90620.75, 147557.13,\n",
       "       149928.59, 121178.91,  84298.37, 137017.34,  68070.93, 147522.15,\n",
       "       161826.53, 221283.23,  34246.21, 102738.64, 210795.91,  68492.42,\n",
       "       112402.96, 197146.87, 168596.74, 168596.74,  73761.07,  42149.18,\n",
       "       115910.26,  71143.62,  45310.37, 208160.96,  94278.47,  97469.99,\n",
       "        54267.07, 183989.47, 115910.26,  77572.89, 137017.34, 110404.35,\n",
       "        56637.97])"
      ]
     },
     "execution_count": 266,
     "metadata": {},
     "output_type": "execute_result"
    }
   ],
   "source": [
    "x = house.iloc[:,1:6].values\n",
    "y = house.iloc[:,6].values\n",
    "y"
   ]
  },
  {
   "cell_type": "code",
   "execution_count": 267,
   "metadata": {},
   "outputs": [],
   "source": [
    "sc = StandardScaler()\n",
    "x[:, 2:] = sc.fit_transform(x[:, 2:])\n"
   ]
  },
  {
   "cell_type": "code",
   "execution_count": 268,
   "metadata": {},
   "outputs": [
    {
     "data": {
      "text/plain": [
       "array([[1, 7, -0.43618254519190164, -0.17498658540410936,\n",
       "        -0.23740571467683755],\n",
       "       [1, 14, 1.956803621571853, -0.37635146306491846,\n",
       "        0.2207288145285199],\n",
       "       [0, 9, -1.5266005152690179, -0.2857271495897709,\n",
       "        -1.1027709365091793],\n",
       "       ...,\n",
       "       [1, 25, 0.14582316577315818, 1.8432299539445565,\n",
       "        2.1041707679283226],\n",
       "       [1, 25, 0.2602909053058444, 1.9051407566447687,\n",
       "        -0.4919248975687028],\n",
       "       [1, 16, -0.0350784116182665, -0.42215214829000586,\n",
       "        -0.797347917038941]], dtype=object)"
      ]
     },
     "execution_count": 268,
     "metadata": {},
     "output_type": "execute_result"
    }
   ],
   "source": [
    "labelencoder = LabelEncoder()\n",
    "x[:, 0] = labelencoder.fit_transform(x[:,0])\n",
    "x[:, 1] = labelencoder.fit_transform(x[:,1])\n",
    "x"
   ]
  },
  {
   "cell_type": "code",
   "execution_count": 269,
   "metadata": {},
   "outputs": [],
   "source": [
    "#train dataset\n",
    "x_train, x_test, y_train, y_test = train_test_split(x, y, test_size=0.2, random_state=45)"
   ]
  },
  {
   "cell_type": "code",
   "execution_count": 270,
   "metadata": {},
   "outputs": [
    {
     "data": {
      "text/html": [
       "<style>#sk-container-id-14 {color: black;background-color: white;}#sk-container-id-14 pre{padding: 0;}#sk-container-id-14 div.sk-toggleable {background-color: white;}#sk-container-id-14 label.sk-toggleable__label {cursor: pointer;display: block;width: 100%;margin-bottom: 0;padding: 0.3em;box-sizing: border-box;text-align: center;}#sk-container-id-14 label.sk-toggleable__label-arrow:before {content: \"▸\";float: left;margin-right: 0.25em;color: #696969;}#sk-container-id-14 label.sk-toggleable__label-arrow:hover:before {color: black;}#sk-container-id-14 div.sk-estimator:hover label.sk-toggleable__label-arrow:before {color: black;}#sk-container-id-14 div.sk-toggleable__content {max-height: 0;max-width: 0;overflow: hidden;text-align: left;background-color: #f0f8ff;}#sk-container-id-14 div.sk-toggleable__content pre {margin: 0.2em;color: black;border-radius: 0.25em;background-color: #f0f8ff;}#sk-container-id-14 input.sk-toggleable__control:checked~div.sk-toggleable__content {max-height: 200px;max-width: 100%;overflow: auto;}#sk-container-id-14 input.sk-toggleable__control:checked~label.sk-toggleable__label-arrow:before {content: \"▾\";}#sk-container-id-14 div.sk-estimator input.sk-toggleable__control:checked~label.sk-toggleable__label {background-color: #d4ebff;}#sk-container-id-14 div.sk-label input.sk-toggleable__control:checked~label.sk-toggleable__label {background-color: #d4ebff;}#sk-container-id-14 input.sk-hidden--visually {border: 0;clip: rect(1px 1px 1px 1px);clip: rect(1px, 1px, 1px, 1px);height: 1px;margin: -1px;overflow: hidden;padding: 0;position: absolute;width: 1px;}#sk-container-id-14 div.sk-estimator {font-family: monospace;background-color: #f0f8ff;border: 1px dotted black;border-radius: 0.25em;box-sizing: border-box;margin-bottom: 0.5em;}#sk-container-id-14 div.sk-estimator:hover {background-color: #d4ebff;}#sk-container-id-14 div.sk-parallel-item::after {content: \"\";width: 100%;border-bottom: 1px solid gray;flex-grow: 1;}#sk-container-id-14 div.sk-label:hover label.sk-toggleable__label {background-color: #d4ebff;}#sk-container-id-14 div.sk-serial::before {content: \"\";position: absolute;border-left: 1px solid gray;box-sizing: border-box;top: 0;bottom: 0;left: 50%;z-index: 0;}#sk-container-id-14 div.sk-serial {display: flex;flex-direction: column;align-items: center;background-color: white;padding-right: 0.2em;padding-left: 0.2em;position: relative;}#sk-container-id-14 div.sk-item {position: relative;z-index: 1;}#sk-container-id-14 div.sk-parallel {display: flex;align-items: stretch;justify-content: center;background-color: white;position: relative;}#sk-container-id-14 div.sk-item::before, #sk-container-id-14 div.sk-parallel-item::before {content: \"\";position: absolute;border-left: 1px solid gray;box-sizing: border-box;top: 0;bottom: 0;left: 50%;z-index: -1;}#sk-container-id-14 div.sk-parallel-item {display: flex;flex-direction: column;z-index: 1;position: relative;background-color: white;}#sk-container-id-14 div.sk-parallel-item:first-child::after {align-self: flex-end;width: 50%;}#sk-container-id-14 div.sk-parallel-item:last-child::after {align-self: flex-start;width: 50%;}#sk-container-id-14 div.sk-parallel-item:only-child::after {width: 0;}#sk-container-id-14 div.sk-dashed-wrapped {border: 1px dashed gray;margin: 0 0.4em 0.5em 0.4em;box-sizing: border-box;padding-bottom: 0.4em;background-color: white;}#sk-container-id-14 div.sk-label label {font-family: monospace;font-weight: bold;display: inline-block;line-height: 1.2em;}#sk-container-id-14 div.sk-label-container {text-align: center;}#sk-container-id-14 div.sk-container {/* jupyter's `normalize.less` sets `[hidden] { display: none; }` but bootstrap.min.css set `[hidden] { display: none !important; }` so we also need the `!important` here to be able to override the default hidden behavior on the sphinx rendered scikit-learn.org. See: https://github.com/scikit-learn/scikit-learn/issues/21755 */display: inline-block !important;position: relative;}#sk-container-id-14 div.sk-text-repr-fallback {display: none;}</style><div id=\"sk-container-id-14\" class=\"sk-top-container\"><div class=\"sk-text-repr-fallback\"><pre>LinearRegression()</pre><b>In a Jupyter environment, please rerun this cell to show the HTML representation or trust the notebook. <br />On GitHub, the HTML representation is unable to render, please try loading this page with nbviewer.org.</b></div><div class=\"sk-container\" hidden><div class=\"sk-item\"><div class=\"sk-estimator sk-toggleable\"><input class=\"sk-toggleable__control sk-hidden--visually\" id=\"sk-estimator-id-14\" type=\"checkbox\" checked><label for=\"sk-estimator-id-14\" class=\"sk-toggleable__label sk-toggleable__label-arrow\">LinearRegression</label><div class=\"sk-toggleable__content\"><pre>LinearRegression()</pre></div></div></div></div></div>"
      ],
      "text/plain": [
       "LinearRegression()"
      ]
     },
     "execution_count": 270,
     "metadata": {},
     "output_type": "execute_result"
    }
   ],
   "source": [
    "regressor = LinearRegression()\n",
    "regressor.fit(x_train, y_train)\n"
   ]
  },
  {
   "cell_type": "code",
   "execution_count": 271,
   "metadata": {},
   "outputs": [],
   "source": [
    "y_pred = regressor.predict(x_test)"
   ]
  },
  {
   "cell_type": "code",
   "execution_count": 272,
   "metadata": {},
   "outputs": [
    {
     "data": {
      "text/plain": [
       "array([-54310.25990841,  -1795.57159974,  -7434.69438476,    405.385498  ,\n",
       "        49997.62150278])"
      ]
     },
     "execution_count": 272,
     "metadata": {},
     "output_type": "execute_result"
    }
   ],
   "source": [
    "regressor.coef_"
   ]
  },
  {
   "cell_type": "code",
   "execution_count": 273,
   "metadata": {},
   "outputs": [
    {
     "data": {
      "text/plain": [
       "180616.64779236508"
      ]
     },
     "execution_count": 273,
     "metadata": {},
     "output_type": "execute_result"
    }
   ],
   "source": [
    "regressor.intercept_"
   ]
  },
  {
   "cell_type": "code",
   "execution_count": 274,
   "metadata": {},
   "outputs": [
    {
     "data": {
      "text/plain": [
       "0.46369185580819505"
      ]
     },
     "execution_count": 274,
     "metadata": {},
     "output_type": "execute_result"
    }
   ],
   "source": [
    "r2_score(y_test, y_pred)"
   ]
  }
 ],
 "metadata": {
  "interpreter": {
   "hash": "a9cff5a362bc38ef45d817ae74b1af54d6a076e3d773891282bce078b815ba34"
  },
  "kernelspec": {
   "display_name": "Python 3.10.4 64-bit",
   "language": "python",
   "name": "python3"
  },
  "language_info": {
   "codemirror_mode": {
    "name": "ipython",
    "version": 3
   },
   "file_extension": ".py",
   "mimetype": "text/x-python",
   "name": "python",
   "nbconvert_exporter": "python",
   "pygments_lexer": "ipython3",
   "version": "3.10.4"
  },
  "orig_nbformat": 4
 },
 "nbformat": 4,
 "nbformat_minor": 2
}
